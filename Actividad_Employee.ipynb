{
  "nbformat": 4,
  "nbformat_minor": 0,
  "metadata": {
    "colab": {
      "provenance": [],
      "include_colab_link": true
    },
    "kernelspec": {
      "name": "python3",
      "display_name": "Python 3"
    },
    "language_info": {
      "name": "python"
    }
  },
  "cells": [
    {
      "cell_type": "markdown",
      "metadata": {
        "id": "view-in-github",
        "colab_type": "text"
      },
      "source": [
        "<a href=\"https://colab.research.google.com/github/Luiscal28/actividad-company/blob/main/Actividad_Employee.ipynb\" target=\"_parent\"><img src=\"https://colab.research.google.com/assets/colab-badge.svg\" alt=\"Open In Colab\"/></a>"
      ]
    },
    {
      "cell_type": "code",
      "source": [
        "from abc import ABC, abstractmethod\n",
        "\n",
        "class AbstractEmployee(ABC):\n",
        "    new_id = 1\n",
        "\n",
        "    def __init__(self):\n",
        "        self.id = AbstractEmployee.new_id\n",
        "        AbstractEmployee.new_id += 1\n",
        "\n",
        "    @abstractmethod\n",
        "    def say_id(self):\n",
        "        pass\n",
        "\n",
        "class Employee(AbstractEmployee):\n",
        "    def __init__(self, name=None):\n",
        "        super().__init__()\n",
        "        self._name = name\n",
        "        self.__company = 'liquor store'\n",
        "\n",
        "    def say_id(self):\n",
        "        print(f'Mi id es {self.id}')\n",
        "\n",
        "    @property\n",
        "    def name(self):\n",
        "        return self._name\n",
        "\n",
        "    @name.setter\n",
        "    def name(self, name):\n",
        "        self._name = name\n",
        "\n",
        "    @name.deleter\n",
        "    def name(self):\n",
        "        del self._name\n",
        "\n",
        "class User:\n",
        "    def __init__(self, username, role):\n",
        "        self.username = username\n",
        "        self.role = role\n",
        "\n",
        "    def say_user_info(self):\n",
        "        print(f'Usuario: {self.username}; Rol: {self.role}')\n",
        "\n",
        "class Admin(Employee, User):\n",
        "    def __init__(self, username):\n",
        "        Employee.__init__(self, username)\n",
        "        User.__init__(self, username, 'Admin')\n",
        "\n",
        "    def say_id(self):\n",
        "        super().say_id()\n",
        "        print(\"yo soy el admin\")\n",
        "\n",
        "class Manager(Admin):\n",
        "    def __init__(self, username):\n",
        "        super().__init__(username)\n",
        "\n",
        "    def say_id(self):\n",
        "        super().say_id()\n",
        "        print(\"yo soy el boss\")\n",
        "\n",
        "class Meeting:\n",
        "    def __init__(self):\n",
        "        self.attendees = []\n",
        "\n",
        "    def add(self, employee):\n",
        "        if isinstance(employee, Employee):\n",
        "            self.attendees.append(employee)\n",
        "            print(f\"Empleado con id: {employee.id} agregado exitosamente a la reunion\")\n",
        "\n",
        "    def __len__(self):\n",
        "        return len(self.attendees)\n",
        "\n",
        "e1 = Employee(\"Pepito Perez\")\n",
        "e2 = Employee(\"Fulanito de Tal\")\n",
        "e3 = Admin(\"Marshall D Teach\")\n",
        "e4 = Manager(\"Maximo Meridio\")\n",
        "\n",
        "m1 = Meeting()\n",
        "m1.add(e1)\n",
        "m1.add(e2)\n",
        "m1.add(e3)\n",
        "m1.add(e4)\n",
        "print(f\"# Asistentes a la reunión: {len(m1)}\")\n",
        "for e in m1.attendees:\n",
        "  print(f\"\\nMi nombre es: {e.name} y trabajo para {e._Employee__company}\")\n",
        "  e.say_id()\n",
        "  try:\n",
        "    e.say_user_info()\n",
        "  except AttributeError:\n",
        "    continue\n",
        "del e1.name\n"
      ],
      "metadata": {
        "colab": {
          "base_uri": "https://localhost:8080/"
        },
        "id": "Hb8uUngBOqVv",
        "outputId": "d00dcecc-3d5a-4ba9-944c-62199182991c"
      },
      "execution_count": 1,
      "outputs": [
        {
          "output_type": "stream",
          "name": "stdout",
          "text": [
            "Empleado con id: 1 agregado exitosamente a la reunion\n",
            "Empleado con id: 2 agregado exitosamente a la reunion\n",
            "Empleado con id: 3 agregado exitosamente a la reunion\n",
            "Empleado con id: 4 agregado exitosamente a la reunion\n",
            "# Asistentes a la reunión: 4\n",
            "\n",
            "Mi nombre es: Pepito Perez y trabajo para liquor store\n",
            "Mi id es 1\n",
            "\n",
            "Mi nombre es: Fulanito de Tal y trabajo para liquor store\n",
            "Mi id es 2\n",
            "\n",
            "Mi nombre es: Marshall D Teach y trabajo para liquor store\n",
            "Mi id es 3\n",
            "yo soy el admin\n",
            "Usuario: Marshall D Teach; Rol: Admin\n",
            "\n",
            "Mi nombre es: Maximo Meridio y trabajo para liquor store\n",
            "Mi id es 4\n",
            "yo soy el admin\n",
            "yo soy el boss\n",
            "Usuario: Maximo Meridio; Rol: Admin\n"
          ]
        }
      ]
    },
    {
      "cell_type": "markdown",
      "source": [
        "## Luis Eduardo Calderon Jimenez\n",
        "\n",
        "### correo institucional: (luis.calderonj@upb.edu.co)\n",
        "\n",
        "ID: 000403952"
      ],
      "metadata": {
        "id": "CtUqVCX_WzAj"
      }
    }
  ]
}